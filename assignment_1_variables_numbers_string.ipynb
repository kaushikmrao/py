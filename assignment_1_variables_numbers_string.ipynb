{
  "cells": [
    {
      "cell_type": "markdown",
      "metadata": {
        "id": "view-in-github",
        "colab_type": "text"
      },
      "source": [
        "<a href=\"https://colab.research.google.com/github/kaushikmrao/py/blob/master/assignment_1_variables_numbers_string.ipynb\" target=\"_parent\"><img src=\"https://colab.research.google.com/assets/colab-badge.svg\" alt=\"Open In Colab\"/></a>"
      ]
    },
    {
      "cell_type": "markdown",
      "metadata": {
        "id": "-Im6eLhIb7A8"
      },
      "source": [
        "<h2 align=\"center\" style=\"color:blue\">Codebasics Python Course: Exercise - Variables, Numbers, Strings</h2>"
      ]
    },
    {
      "cell_type": "markdown",
      "metadata": {
        "id": "QAGsAcQXOm1c"
      },
      "source": [
        "### Task 1\n",
        "\n",
        "Create a variable named pi and store the value 22/7 in it. Now check the data type of this variable."
      ]
    },
    {
      "cell_type": "code",
      "execution_count": null,
      "metadata": {
        "id": "5DbTb-5gOecw",
        "colab": {
          "base_uri": "https://localhost:8080/"
        },
        "outputId": "3f44f3f8-98da-4a58-c2d7-38f44a16783b"
      },
      "outputs": [
        {
          "output_type": "stream",
          "name": "stdout",
          "text": [
            "3.142857142857143\n"
          ]
        }
      ],
      "source": [
        "# write your code here\n",
        "pi = 22/7\n",
        "print(pi)"
      ]
    },
    {
      "cell_type": "markdown",
      "metadata": {
        "id": "tO8BMeETb7A9"
      },
      "source": [
        "### Task 2\n",
        "\n",
        "Create a variable called ```for``` and assign it a value 4. See what happens and find out the reason behind the behavior that you see."
      ]
    },
    {
      "cell_type": "code",
      "execution_count": null,
      "metadata": {
        "colab": {
          "base_uri": "https://localhost:8080/",
          "height": 106
        },
        "id": "qHskWLeFPUSa",
        "outputId": "d4b88d6c-674f-4e34-8578-29a6252f70ea"
      },
      "outputs": [
        {
          "output_type": "error",
          "ename": "SyntaxError",
          "evalue": "invalid syntax (ipython-input-1-590245134.py, line 2)",
          "traceback": [
            "\u001b[0;36m  File \u001b[0;32m\"/tmp/ipython-input-1-590245134.py\"\u001b[0;36m, line \u001b[0;32m2\u001b[0m\n\u001b[0;31m    for = 4\u001b[0m\n\u001b[0m        ^\u001b[0m\n\u001b[0;31mSyntaxError\u001b[0m\u001b[0;31m:\u001b[0m invalid syntax\n"
          ]
        }
      ],
      "source": [
        "# write your code here\n",
        "for = 4\n",
        "print(for)"
      ]
    },
    {
      "cell_type": "markdown",
      "metadata": {
        "id": "71LN9YY3b7A-"
      },
      "source": [
        "### Task 3\n",
        "\n",
        "Below we have defined the variables for storing the principal amount, rate of interest and time. You need to calculate the simple interest for 3 years. Once simple interest is calculated, calculate the total amount you will have at the end of the tenure"
      ]
    },
    {
      "cell_type": "code",
      "execution_count": null,
      "metadata": {
        "id": "h-7Ro-oVQDVB",
        "colab": {
          "base_uri": "https://localhost:8080/"
        },
        "outputId": "942533c7-5ccd-4bda-ce3e-2dea9581d7b1"
      },
      "outputs": [
        {
          "output_type": "stream",
          "name": "stdout",
          "text": [
            "95.25599999999999\n"
          ]
        }
      ],
      "source": [
        "principle_amount = 567.00\n",
        "rate_of_interest = 5.6\n",
        "time = 3\n",
        "si = principle_amount * rate_of_interest * time / 100\n",
        "print(si)"
      ]
    },
    {
      "cell_type": "markdown",
      "metadata": {
        "id": "vlTW7195RAUb"
      },
      "source": [
        "Now let's calculate the simple intrest using simple math formula:\n",
        "\n",
        "`simple interest  = P x R x T / 100`\n",
        "\n",
        "where:\n",
        "\n",
        "    P = principle amount\n",
        "    R = rate of interest\n",
        "    T = time\n",
        "\n"
      ]
    },
    {
      "cell_type": "code",
      "execution_count": null,
      "metadata": {
        "id": "36-AbY5WQemi"
      },
      "outputs": [],
      "source": [
        "# calculate simple interest\n"
      ]
    },
    {
      "cell_type": "code",
      "execution_count": null,
      "metadata": {
        "colab": {
          "base_uri": "https://localhost:8080/"
        },
        "id": "6OXTiuuIQyu4",
        "outputId": "333efb6c-3559-4b15-bdde-9694e2123f0f"
      },
      "outputs": [
        {
          "output_type": "stream",
          "name": "stdout",
          "text": [
            "662.256\n"
          ]
        }
      ],
      "source": [
        "# calculate total amount after including interest\n",
        "total_amount = principle_amount + si\n",
        "print(total_amount)"
      ]
    },
    {
      "cell_type": "markdown",
      "metadata": {
        "id": "5AfdKd8Eb7A_"
      },
      "source": [
        "### Task 4\n",
        "\n",
        "There is a circular pond in a village. This pond has a radius of 84 meter. Can you find the area of the pond?"
      ]
    },
    {
      "cell_type": "code",
      "execution_count": null,
      "metadata": {
        "scrolled": true,
        "colab": {
          "base_uri": "https://localhost:8080/"
        },
        "id": "-bstTKc2b7A_",
        "outputId": "b5b007c5-9d25-40c7-e29c-54d945945434"
      },
      "outputs": [
        {
          "output_type": "stream",
          "name": "stdout",
          "text": [
            "22155.84\n"
          ]
        }
      ],
      "source": [
        "# write your code here\n",
        "radius=84\n",
        "area=3.14*radius*radius\n",
        "print(area)"
      ]
    },
    {
      "cell_type": "markdown",
      "metadata": {
        "id": "tLwLeU-ab7A_"
      },
      "source": [
        "### Task 5\n",
        "\n",
        "If there is a 2000 liter water in a square meter, what is the total amount of water in this pond?\n",
        "\n",
        "**Note:** For simplicity, use the value of pi as 3.14."
      ]
    },
    {
      "cell_type": "code",
      "execution_count": null,
      "metadata": {
        "colab": {
          "base_uri": "https://localhost:8080/"
        },
        "id": "E-REkDSub7A_",
        "outputId": "c44132a0-3310-4ba1-b029-6af17934e9f1"
      },
      "outputs": [
        {
          "output_type": "stream",
          "name": "stdout",
          "text": [
            "44311680.0\n"
          ]
        }
      ],
      "source": [
        "# write your code here\n",
        "volume=area*2000\n",
        "print(volume)"
      ]
    },
    {
      "cell_type": "markdown",
      "metadata": {
        "id": "P-OC-W_cb7A_"
      },
      "source": [
        "### Task 6\n",
        "\n",
        "If you cross a 490-meter-long street in 7 minutes, then what is your speed in meter per seconds. Print your answer with only two decimal points\n",
        "\n",
        "Hint:\n",
        "        Speed = Distance / Time"
      ]
    },
    {
      "cell_type": "code",
      "execution_count": null,
      "metadata": {
        "colab": {
          "base_uri": "https://localhost:8080/"
        },
        "id": "kLyAhmE6b7A_",
        "outputId": "bbc787fe-0f36-4f0b-8193-a1892982304c"
      },
      "outputs": [
        {
          "output_type": "stream",
          "name": "stdout",
          "text": [
            "70.0\n"
          ]
        }
      ],
      "source": [
        "# write your code here\n",
        "distance=490\n",
        "time=7\n",
        "speed=distance/time\n",
        "print(speed)\n"
      ]
    },
    {
      "cell_type": "markdown",
      "metadata": {
        "id": "fCvFvcPyb7A_"
      },
      "source": [
        "### Task 7\n",
        "\n",
        "Create two variables to store how many fruits and vegetables you eat in a day. The value should be numeric for example 3 fruits and 4 vegetables. Now Print \"I eat x vegetables and y fruits daily\" where x and y presents vegetables and fruits that you eat every day. Use python f string for this."
      ]
    },
    {
      "cell_type": "code",
      "execution_count": null,
      "metadata": {
        "colab": {
          "base_uri": "https://localhost:8080/"
        },
        "id": "Gu8AdKIbb7A_",
        "outputId": "d4f78aff-1a8d-4a29-9314-a6423596bb08"
      },
      "outputs": [
        {
          "output_type": "stream",
          "name": "stdout",
          "text": [
            "I eat 4 vegetables and 3 fruits daily\n"
          ]
        }
      ],
      "source": [
        "# write your code\n",
        "fruits=3\n",
        "vegetables=4\n",
        "print(f\"I eat {vegetables} vegetables and {fruits} fruits daily\")"
      ]
    },
    {
      "cell_type": "markdown",
      "metadata": {
        "id": "YOhHeFl7b7A_"
      },
      "source": [
        "### Task 8\n",
        "\n",
        "Create a variable and store the string “The Himalayas are one of the youngest mountain range on the planet.”\n",
        "\n",
        "1. Print ‘The Himalayas’ using slice operator\n",
        "1. Print “mountain range” using negative index\n",
        "1. Print “The Himalayas on the planet” using slice as well as f-string"
      ]
    },
    {
      "cell_type": "code",
      "execution_count": null,
      "metadata": {
        "colab": {
          "base_uri": "https://localhost:8080/",
          "height": 35
        },
        "id": "DCBE_GQyb7BA",
        "outputId": "697d8a9a-281c-4877-9a68-399d184bcf14"
      },
      "outputs": [
        {
          "output_type": "execute_result",
          "data": {
            "text/plain": [
              "'he plan'"
            ],
            "application/vnd.google.colaboratory.intrinsic+json": {
              "type": "string"
            }
          },
          "metadata": {},
          "execution_count": 14
        }
      ],
      "source": [
        "# write your code here\n",
        "s = \"The Himalayas are one of the youngest mountain range on the planet\"\n",
        "s[0:13]\n",
        "s[-9:-2]"
      ]
    },
    {
      "cell_type": "markdown",
      "metadata": {
        "id": "WhxVEnwLb7BA"
      },
      "source": [
        "### Task 9\n",
        "\n",
        "You have created a string variable called string= ”There are 9 planets in the solar system”. After some time, you have realized that your sentence is incorrect and there are only 8 planets, now correct your sentence by replacing the incorrect words."
      ]
    },
    {
      "cell_type": "code",
      "execution_count": null,
      "metadata": {
        "colab": {
          "base_uri": "https://localhost:8080/"
        },
        "id": "fTadFrmDb7BA",
        "outputId": "8bb34bd4-9990-4f04-cedd-55e7e00816df"
      },
      "outputs": [
        {
          "output_type": "stream",
          "name": "stdout",
          "text": [
            "There are 8 planets in the solar system\n"
          ]
        }
      ],
      "source": [
        "# write your code here\n",
        "s = \"There are 9 planets in the solar system\"\n",
        "s = s.replace(\"9\", \"8\")\n",
        "print(s)"
      ]
    },
    {
      "cell_type": "markdown",
      "metadata": {
        "id": "uVz10Hvvb7BA"
      },
      "source": [
        "### Task 10\n",
        "\n",
        "Imagine you are a shop owner tracking sales of three products throughout the day. At the end of the day, you want to calculate the total sales from these products. Product quantity and prices are given below in the next code cell,\n",
        "\n",
        "Task: Write a program that:\n",
        "\n",
        "1. Calculates the total sales for each product.\n",
        "1. Summarizes the total sales for the day.\n",
        "1. Prints this summary in a formatted manner.\n",
        "\n",
        "Expected Output:\n",
        "\n",
        "```\n",
        "Daily Sales Summary:\n",
        "- Product 1: Sold 15 units at $20.0 each, Total: $300.0\n",
        "- Product 2: Sold 10 units at $35.0 each, Total: $350.0\n",
        "- Product 3: Sold 20 units at $12.0 each, Total: $240.0\n",
        "Total Sales for the Day: $890.0\n",
        "```"
      ]
    },
    {
      "cell_type": "code",
      "execution_count": null,
      "metadata": {
        "id": "Q_fCono3b7BA"
      },
      "outputs": [],
      "source": [
        "# Prices and quantities for each product\n",
        "product1_price = 20.0  # Price per unit for product 1\n",
        "product1_quantity = 15  # Quantity sold of product 1\n",
        "\n",
        "product2_price = 35.0  # Price per unit for product 2\n",
        "product2_quantity = 10  # Quantity sold of product 2\n",
        "\n",
        "product3_price = 12.0  # Price per unit for product 3\n",
        "product3_quantity = 20  # Quantity sold of product 3"
      ]
    },
    {
      "cell_type": "code",
      "execution_count": null,
      "metadata": {
        "id": "_01DF5s2b7BA"
      },
      "outputs": [],
      "source": [
        "# write your code here\n",
        "total_sales_product1 = product1_price * product1_quantity\n",
        "total_sales_product2 = product2_price * product2_quantity\n",
        "total_sales_product3 = product3_price * product3_quantity"
      ]
    },
    {
      "cell_type": "code",
      "source": [
        "total_sales = total_sales_product1 + total_sales_product2 + total_sales_product3"
      ],
      "metadata": {
        "id": "BU0lmD-Eef7B"
      },
      "execution_count": null,
      "outputs": []
    },
    {
      "cell_type": "code",
      "source": [
        "print(total_sales)"
      ],
      "metadata": {
        "colab": {
          "base_uri": "https://localhost:8080/"
        },
        "id": "ZLFVlMSbep9G",
        "outputId": "51745924-419a-4585-a319-3ddc0266d2fc"
      },
      "execution_count": null,
      "outputs": [
        {
          "output_type": "stream",
          "name": "stdout",
          "text": [
            "890.0\n"
          ]
        }
      ]
    },
    {
      "cell_type": "code",
      "source": [],
      "metadata": {
        "id": "gxL77wd5ex0W"
      },
      "execution_count": null,
      "outputs": []
    }
  ],
  "metadata": {
    "colab": {
      "provenance": [],
      "include_colab_link": true
    },
    "kernelspec": {
      "display_name": "Python 3 (ipykernel)",
      "language": "python",
      "name": "python3"
    },
    "language_info": {
      "codemirror_mode": {
        "name": "ipython",
        "version": 3
      },
      "file_extension": ".py",
      "mimetype": "text/x-python",
      "name": "python",
      "nbconvert_exporter": "python",
      "pygments_lexer": "ipython3",
      "version": "3.10.11"
    }
  },
  "nbformat": 4,
  "nbformat_minor": 0
}